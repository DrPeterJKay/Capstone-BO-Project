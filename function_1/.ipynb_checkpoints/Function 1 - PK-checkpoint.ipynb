{
 "cells": [
  {
   "cell_type": "markdown",
   "metadata": {},
   "source": [
    "# Function 1: Searching for Contamination Sources\n",
    "\n",
    "This may sound simple because you only have a two-dimensional input, however it is a very difficult problem. It corresponds to trying to find the source of radiation in some square area. However, you can only detect the radiation once you are very close to it, meaning most of the readings will be zero. There are two sources, one is not too dangerous, so make sure you try to find both modes of the function."
   ]
  },
  {
   "cell_type": "markdown",
   "metadata": {},
   "source": [
    "#### Student ID: 574"
   ]
  },
  {
   "cell_type": "code",
   "execution_count": 1,
   "metadata": {},
   "outputs": [],
   "source": [
    "import numpy as np\n",
    "import matplotlib.pyplot as plt\n",
    "from sklearn.gaussian_process import GaussianProcessRegressor"
   ]
  },
  {
   "cell_type": "code",
   "execution_count": 2,
   "metadata": {},
   "outputs": [],
   "source": [
    "#Set Random seed to the ulitmate answer!\n",
    "np.random.seed(42)"
   ]
  },
  {
   "cell_type": "markdown",
   "metadata": {},
   "source": [
    "## Guide and Ideas for Capstone Project"
   ]
  },
  {
   "cell_type": "markdown",
   "metadata": {},
   "source": [
    "We begin this guide by downloading the data:"
   ]
  },
  {
   "cell_type": "code",
   "execution_count": 3,
   "metadata": {},
   "outputs": [],
   "source": [
    "X = np.load('initial_inputs.npy')\n",
    "Y = np.load('initial_outputs.npy')"
   ]
  },
  {
   "cell_type": "code",
   "execution_count": 4,
   "metadata": {},
   "outputs": [
    {
     "data": {
      "text/plain": [
       "array([[0.31940389, 0.76295937],\n",
       "       [0.57432921, 0.8798981 ],\n",
       "       [0.73102363, 0.73299988],\n",
       "       [0.84035342, 0.26473161],\n",
       "       [0.65011406, 0.68152635],\n",
       "       [0.41043714, 0.1475543 ],\n",
       "       [0.31269116, 0.07872278],\n",
       "       [0.68341817, 0.86105746],\n",
       "       [0.08250725, 0.40348751],\n",
       "       [0.88388983, 0.58225397]])"
      ]
     },
     "execution_count": 4,
     "metadata": {},
     "output_type": "execute_result"
    }
   ],
   "source": [
    "X"
   ]
  },
  {
   "cell_type": "code",
   "execution_count": 5,
   "metadata": {},
   "outputs": [
    {
     "data": {
      "text/plain": [
       "array([ 1.32267704e-079,  1.03307824e-046,  7.71087511e-016,\n",
       "        3.34177101e-124, -3.60606264e-003, -2.15924904e-054,\n",
       "       -2.08909327e-091,  2.53500115e-040,  3.60677119e-081,\n",
       "        6.22985647e-048])"
      ]
     },
     "execution_count": 5,
     "metadata": {},
     "output_type": "execute_result"
    }
   ],
   "source": [
    "Y"
   ]
  },
  {
   "cell_type": "markdown",
   "metadata": {},
   "source": [
    "## Random Search"
   ]
  },
  {
   "cell_type": "markdown",
   "metadata": {},
   "source": [
    "The simplest solution would be a simple random search, that is, we can randomly choose our next query point:"
   ]
  },
  {
   "cell_type": "code",
   "execution_count": 6,
   "metadata": {},
   "outputs": [],
   "source": [
    "#next_query = np.random.uniform(size = 2)\n",
    "#print(next_query)\n",
    "def faraway_point(data, num_guess,new_pts):\n",
    "    '''Generates new points based on size of original data set\n",
    "    The function generates num_guess random data points and selects the furthest point from the dataset based on euclidian distance\n",
    "    If more than one data point is requested then the new data point is appended to the data set.\n",
    "    :: data : Origional data set\n",
    "    :: num_guesses : Number of random data points to compare with\n",
    "    :: new_points : Number of new points to generate\n",
    "    :: RETURN : Returns data set with new points appended'''\n",
    "    np.random.seed(42)\n",
    "    dim = data.shape[1]\n",
    "    for j in range(new_pts):\n",
    "        max_sum_dist = 0\n",
    "        best_point = []\n",
    "        for i in range(num_guess):\n",
    "            new_point = np.random.rand(1,dim)\n",
    "            euclid_dist = np.sqrt(np.sum(np.square(data - new_point), axis=1))\n",
    "            sum_dist = np.sum(euclid_dist)\n",
    "            if sum_dist > max_sum_dist:\n",
    "                max_sum_dist = sum_dist\n",
    "                best_point = new_point\n",
    "        print(np.array2string(best_point, precision=6, separator='-', floatmode='fixed',formatter={'float': '{:0.6f}'.format}))\n",
    "        data = np.vstack((data,best_point))\n",
    "    return data"
   ]
  },
  {
   "cell_type": "code",
   "execution_count": 7,
   "metadata": {},
   "outputs": [
    {
     "name": "stdout",
     "output_type": "stream",
     "text": [
      "[[0.001256-0.001021]]\n",
      "[[0.000384-0.999836]]\n",
      "[[0.997409-0.002207]]\n"
     ]
    },
    {
     "data": {
      "text/plain": [
       "array([[3.19403889e-01, 7.62959374e-01],\n",
       "       [5.74329215e-01, 8.79898105e-01],\n",
       "       [7.31023631e-01, 7.32999876e-01],\n",
       "       [8.40353417e-01, 2.64731614e-01],\n",
       "       [6.50114060e-01, 6.81526352e-01],\n",
       "       [4.10437137e-01, 1.47554299e-01],\n",
       "       [3.12691157e-01, 7.87227779e-02],\n",
       "       [6.83418169e-01, 8.61057464e-01],\n",
       "       [8.25072518e-02, 4.03487506e-01],\n",
       "       [8.83889829e-01, 5.82253974e-01],\n",
       "       [1.25640709e-03, 1.02149905e-03],\n",
       "       [3.84097414e-04, 9.99836335e-01],\n",
       "       [9.97408630e-01, 2.20680920e-03]])"
      ]
     },
     "execution_count": 7,
     "metadata": {},
     "output_type": "execute_result"
    }
   ],
   "source": [
    "faraway_point(X, 100000,3)"
   ]
  }
 ],
 "metadata": {
  "interpreter": {
   "hash": "d37abda7630e259e5026a5079657683a09f6e3d11473720762ebe7250c494840"
  },
  "kernelspec": {
   "display_name": "Python 3 (ipykernel)",
   "language": "python",
   "name": "python3"
  },
  "language_info": {
   "codemirror_mode": {
    "name": "ipython",
    "version": 3
   },
   "file_extension": ".py",
   "mimetype": "text/x-python",
   "name": "python",
   "nbconvert_exporter": "python",
   "pygments_lexer": "ipython3",
   "version": "3.11.5"
  }
 },
 "nbformat": 4,
 "nbformat_minor": 4
}
